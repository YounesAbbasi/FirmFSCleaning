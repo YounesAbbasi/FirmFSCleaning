{
 "cells": [
  {
   "cell_type": "code",
   "execution_count": 28,
   "metadata": {},
   "outputs": [],
   "source": [
    "import pandas as pd\n",
    "import numpy as np\n",
    "from persiantools import characters"
   ]
  },
  {
   "cell_type": "code",
   "execution_count": 29,
   "metadata": {},
   "outputs": [],
   "source": [
    "ScrapedList = pd.read_excel(r'D:\\Python_project\\FirmFSCleansing\\raw\\SelectedFirm\\ScrapedCashFlowListAndUpdateBSAndPL_Abbasi_14011020.xlsx')\n",
    "CompianceState = pd.read_excel(r'D:\\Python_project\\FirmFSCleansing\\raw\\SelectedFirm\\Compliance Statements (96-1400)(1).xlsx')"
   ]
  },
  {
   "cell_type": "code",
   "execution_count": 30,
   "metadata": {},
   "outputs": [],
   "source": [
    "ScrapedList.drop(axis=1, labels='Unnamed: 0', inplace=True)"
   ]
  },
  {
   "cell_type": "code",
   "execution_count": 31,
   "metadata": {},
   "outputs": [],
   "source": [
    "ScrapedList['stock_name_x'] = ScrapedList['stock_name_x'].apply(lambda x: characters.ar_to_fa(x.strip()))"
   ]
  },
  {
   "cell_type": "code",
   "execution_count": 32,
   "metadata": {},
   "outputs": [],
   "source": [
    "CompianceState['نماد'] = CompianceState['نماد'].apply(lambda x: characters.ar_to_fa(x.strip()))"
   ]
  },
  {
   "cell_type": "code",
   "execution_count": 34,
   "metadata": {},
   "outputs": [],
   "source": [
    "Result = ScrapedList.merge(CompianceState, how='left', left_on='stock_name_x', right_on='نماد')"
   ]
  },
  {
   "cell_type": "code",
   "execution_count": 42,
   "metadata": {},
   "outputs": [],
   "source": [
    "Result.dropna().to_excel(r'D:\\Python_project\\FirmFSCleansing\\processed\\SelectedStocksWithComplianceData.xlsx')"
   ]
  }
 ],
 "metadata": {
  "kernelspec": {
   "display_name": "Python 3.11.0 64-bit",
   "language": "python",
   "name": "python3"
  },
  "language_info": {
   "codemirror_mode": {
    "name": "ipython",
    "version": 3
   },
   "file_extension": ".py",
   "mimetype": "text/x-python",
   "name": "python",
   "nbconvert_exporter": "python",
   "pygments_lexer": "ipython3",
   "version": "3.11.0"
  },
  "orig_nbformat": 4,
  "vscode": {
   "interpreter": {
    "hash": "b3a51115edf0179ae0f122298c570cb353cbcb7e9d37d8503fe4168095dddd61"
   }
  }
 },
 "nbformat": 4,
 "nbformat_minor": 2
}
