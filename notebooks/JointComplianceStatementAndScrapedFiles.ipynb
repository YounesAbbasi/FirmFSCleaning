{
 "cells": [
  {
   "cell_type": "code",
   "execution_count": 1,
   "metadata": {},
   "outputs": [],
   "source": [
    "import pandas as pd\n",
    "import numpy as np\n",
    "from persiantools import characters"
   ]
  },
  {
   "cell_type": "code",
   "execution_count": 2,
   "metadata": {},
   "outputs": [],
   "source": [
    "ScrapedList = pd.read_excel(r'D:\\Python_project\\FirmFSCleansing\\raw\\SelectedFirm\\ScrapedCashFlowListAndUpdateBSAndPL_Abbasi_14011020.xlsx')\n",
    "CompianceState = pd.read_excel(r'D:\\Python_project\\FirmFSCleansing\\raw\\SelectedFirm\\Compliance Statements (96-1400)(1).xlsx')\n",
    "MillionsFirm = pd.read_excel(r'D:\\Python_project\\FirmFSCleansing\\raw\\SelectedFirm\\MillionsForCompliance.xlsx')"
   ]
  },
  {
   "cell_type": "code",
   "execution_count": 3,
   "metadata": {},
   "outputs": [],
   "source": [
    "ScrapedList.drop(axis=1, labels='Unnamed: 0', inplace=True)"
   ]
  },
  {
   "cell_type": "code",
   "execution_count": 4,
   "metadata": {},
   "outputs": [],
   "source": [
    "CompianceState['نماد'] = CompianceState['نماد'].apply(lambda x: characters.ar_to_fa(x.strip()))"
   ]
  },
  {
   "cell_type": "code",
   "execution_count": 5,
   "metadata": {},
   "outputs": [],
   "source": [
    "MillionsFirm['نماد'] = MillionsFirm['نماد'].apply(lambda x: characters.ar_to_fa(x.strip()))"
   ]
  },
  {
   "cell_type": "code",
   "execution_count": 6,
   "metadata": {},
   "outputs": [],
   "source": [
    "ScrapedList['stock_name_x'] = ScrapedList['stock_name_x'].apply(lambda x: characters.ar_to_fa(x.strip()))"
   ]
  },
  {
   "cell_type": "code",
   "execution_count": 7,
   "metadata": {},
   "outputs": [],
   "source": [
    "MergedDf = CompianceState.merge(MillionsFirm, on=['Year', 'نماد'], how='left')"
   ]
  },
  {
   "cell_type": "markdown",
   "metadata": {},
   "source": [
    "### Unique unit of all columns"
   ]
  },
  {
   "cell_type": "code",
   "execution_count": 8,
   "metadata": {},
   "outputs": [],
   "source": [
    "#MergedDf1 is records that are millions unit\n",
    "MergedDf1 = MergedDf[MergedDf.Milions==1]\n",
    "MergedDf2 = MergedDf[MergedDf.Milions!=1]"
   ]
  },
  {
   "cell_type": "code",
   "execution_count": 9,
   "metadata": {},
   "outputs": [],
   "source": [
    "#All 1399 and 1400 are millions unit\n",
    "MergedDf3 = MergedDf2[MergedDf2.Year.isin([1399,1400])]"
   ]
  },
  {
   "cell_type": "code",
   "execution_count": 10,
   "metadata": {},
   "outputs": [],
   "source": [
    "#MergedDf4 is all records that aren't millions uni\n",
    "MergedDf4 = MergedDf2[MergedDf2.Year.isin([1396,1397,1398])]"
   ]
  },
  {
   "cell_type": "code",
   "execution_count": 11,
   "metadata": {},
   "outputs": [
    {
     "name": "stderr",
     "output_type": "stream",
     "text": [
      "C:\\Users\\abyo0503\\AppData\\Local\\Temp\\ipykernel_11324\\3410537400.py:1: SettingWithCopyWarning: \n",
      "A value is trying to be set on a copy of a slice from a DataFrame.\n",
      "Try using .loc[row_indexer,col_indexer] = value instead\n",
      "\n",
      "See the caveats in the documentation: https://pandas.pydata.org/pandas-docs/stable/user_guide/indexing.html#returning-a-view-versus-a-copy\n",
      "  MergedDf4['D(W/C)'] = MergedDf4['D(W/C)'].apply(lambda x: x/1000000)\n",
      "C:\\Users\\abyo0503\\AppData\\Local\\Temp\\ipykernel_11324\\3410537400.py:2: SettingWithCopyWarning: \n",
      "A value is trying to be set on a copy of a slice from a DataFrame.\n",
      "Try using .loc[row_indexer,col_indexer] = value instead\n",
      "\n",
      "See the caveats in the documentation: https://pandas.pydata.org/pandas-docs/stable/user_guide/indexing.html#returning-a-view-versus-a-copy\n",
      "  MergedDf4['Deppreciation'] = MergedDf4['Deppreciation'].apply(lambda x: x/1000000)\n"
     ]
    }
   ],
   "source": [
    "MergedDf4['D(W/C)'] = MergedDf4['D(W/C)'].apply(lambda x: x/1000000)\n",
    "MergedDf4['Deppreciation'] = MergedDf4['Deppreciation'].apply(lambda x: x/1000000)"
   ]
  },
  {
   "cell_type": "code",
   "execution_count": 12,
   "metadata": {},
   "outputs": [],
   "source": [
    "FinMergedDf = pd.concat([MergedDf1,MergedDf3])\n",
    "FinMergedDf = pd.concat([FinMergedDf,MergedDf4])"
   ]
  },
  {
   "cell_type": "code",
   "execution_count": 13,
   "metadata": {},
   "outputs": [],
   "source": [
    "FinMergedDf.drop(labels='Milions', axis=1, inplace=True)"
   ]
  },
  {
   "cell_type": "code",
   "execution_count": 19,
   "metadata": {},
   "outputs": [],
   "source": [
    "FinMergedDf.to_excel(r'D:\\Python_project\\FirmFSCleansing\\processed\\ComplianceStatements_1396_1400_UnifiedUnits.xlsx', index=False)"
   ]
  },
  {
   "cell_type": "code",
   "execution_count": 17,
   "metadata": {},
   "outputs": [],
   "source": [
    "Result = ScrapedList.merge(FinMergedDf, how='left', left_on='stock_name_x', right_on='نماد')"
   ]
  },
  {
   "cell_type": "code",
   "execution_count": 61,
   "metadata": {},
   "outputs": [],
   "source": [
    "Result.dropna().to_excel(r'D:\\Python_project\\FirmFSCleansing\\processed\\SelectedStocksWithComplianceData.xlsx', index=False)"
   ]
  }
 ],
 "metadata": {
  "kernelspec": {
   "display_name": "Python 3.11.0 64-bit",
   "language": "python",
   "name": "python3"
  },
  "language_info": {
   "codemirror_mode": {
    "name": "ipython",
    "version": 3
   },
   "file_extension": ".py",
   "mimetype": "text/x-python",
   "name": "python",
   "nbconvert_exporter": "python",
   "pygments_lexer": "ipython3",
   "version": "3.11.0"
  },
  "orig_nbformat": 4,
  "vscode": {
   "interpreter": {
    "hash": "b3a51115edf0179ae0f122298c570cb353cbcb7e9d37d8503fe4168095dddd61"
   }
  }
 },
 "nbformat": 4,
 "nbformat_minor": 2
}
